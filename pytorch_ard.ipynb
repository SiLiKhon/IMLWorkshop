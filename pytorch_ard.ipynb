{
  "nbformat": 4,
  "nbformat_minor": 0,
  "metadata": {
    "colab": {
      "name": "pytorch_ard.ipynb",
      "version": "0.3.2",
      "provenance": [],
      "collapsed_sections": [],
      "include_colab_link": true
    },
    "kernelspec": {
      "name": "python3",
      "display_name": "Python 3"
    },
    "accelerator": "GPU"
  },
  "cells": [
    {
      "cell_type": "markdown",
      "metadata": {
        "id": "view-in-github",
        "colab_type": "text"
      },
      "source": [
        "<a href=\"https://colab.research.google.com/github/SiLiKhon/IMLWorkshop/blob/master/pytorch_ard.ipynb\" target=\"_parent\"><img src=\"https://colab.research.google.com/assets/colab-badge.svg\" alt=\"Open In Colab\"/></a>"
      ]
    },
    {
      "metadata": {
        "id": "Kugt3dKITAa2",
        "colab_type": "code",
        "colab": {
          "base_uri": "https://localhost:8080/",
          "height": 717
        },
        "outputId": "32e9a74a-9f8f-4a30-d487-c8560d8a7c71"
      },
      "cell_type": "code",
      "source": [
        "#pip install pytorch-ard\n",
        "#pip install git+https://github.com/rusty1s/pytorch_sparse\n",
        "pip install git+https://github.com/HolyBayes/pytorch_ard"
      ],
      "execution_count": 1,
      "outputs": [
        {
          "output_type": "stream",
          "text": [
            "Collecting git+https://github.com/HolyBayes/pytorch_ard\n",
            "  Cloning https://github.com/HolyBayes/pytorch_ard to /tmp/pip-req-build-07158ipp\n",
            "Requirement already satisfied: torch>=1.0.0 in /usr/local/lib/python3.6/dist-packages (from pytorch-ard==0.2.0) (1.0.1.post2)\n",
            "Requirement already satisfied: torchvision>=0.2.1 in /usr/local/lib/python3.6/dist-packages (from pytorch-ard==0.2.0) (0.2.2.post3)\n",
            "Requirement already satisfied: scikit-learn>=0.19.2 in /usr/local/lib/python3.6/dist-packages (from pytorch-ard==0.2.0) (0.20.3)\n",
            "Requirement already satisfied: pandas in /usr/local/lib/python3.6/dist-packages (from pytorch-ard==0.2.0) (0.23.4)\n",
            "Collecting pytorch_scatter@ git+https://github.com/rusty1s/pytorch_scatter.git@master from git+https://github.com/rusty1s/pytorch_scatter.git@master (from pytorch-ard==0.2.0)\n",
            "  Cloning https://github.com/rusty1s/pytorch_scatter.git (to revision master) to /tmp/pip-install-8f7ut1tr/pytorch-scatter\n",
            "\u001b[33m  Generating metadata for package pytorch-scatter produced metadata for project name torch-scatter. Fix your #egg=pytorch-scatter fragments.\u001b[0m\n",
            "Collecting pytorch_sparse@ git+https://github.com/rusty1s/pytorch_sparse.git@master from git+https://github.com/rusty1s/pytorch_sparse.git@master (from pytorch-ard==0.2.0)\n",
            "  Cloning https://github.com/rusty1s/pytorch_sparse.git (to revision master) to /tmp/pip-install-8f7ut1tr/pytorch-sparse\n",
            "\u001b[33m  Generating metadata for package pytorch-sparse produced metadata for project name torch-sparse. Fix your #egg=pytorch-sparse fragments.\u001b[0m\n",
            "Requirement already satisfied: pillow>=4.1.1 in /usr/local/lib/python3.6/dist-packages (from torchvision>=0.2.1->pytorch-ard==0.2.0) (4.3.0)\n",
            "Requirement already satisfied: numpy in /usr/local/lib/python3.6/dist-packages (from torchvision>=0.2.1->pytorch-ard==0.2.0) (1.16.2)\n",
            "Requirement already satisfied: six in /usr/local/lib/python3.6/dist-packages (from torchvision>=0.2.1->pytorch-ard==0.2.0) (1.11.0)\n",
            "Requirement already satisfied: scipy>=0.13.3 in /usr/local/lib/python3.6/dist-packages (from scikit-learn>=0.19.2->pytorch-ard==0.2.0) (1.2.1)\n",
            "Requirement already satisfied: pytz>=2011k in /usr/local/lib/python3.6/dist-packages (from pandas->pytorch-ard==0.2.0) (2018.9)\n",
            "Requirement already satisfied: python-dateutil>=2.5.0 in /usr/local/lib/python3.6/dist-packages (from pandas->pytorch-ard==0.2.0) (2.5.3)\n",
            "Requirement already satisfied: olefile in /usr/local/lib/python3.6/dist-packages (from pillow>=4.1.1->torchvision>=0.2.1->pytorch-ard==0.2.0) (0.46)\n",
            "Building wheels for collected packages: pytorch-ard, torch-scatter, torch-sparse, torch-scatter, torch-sparse\n",
            "  Building wheel for pytorch-ard (setup.py) ... \u001b[?25ldone\n",
            "\u001b[?25h  Stored in directory: /tmp/pip-ephem-wheel-cache-tlfq11xa/wheels/3b/89/8b/e4e15b700cb040ab0add71407ee4b6f6e48fe2c4d665bea2b9\n",
            "  Building wheel for torch-scatter (setup.py) ... \u001b[?25ldone\n",
            "\u001b[?25h  Stored in directory: /tmp/pip-ephem-wheel-cache-tlfq11xa/wheels/1b/a7/8a/39f0508a02f105d81c91e6e80e0ec9c3dfaba1302a97488c92\n",
            "  Building wheel for torch-sparse (setup.py) ... \u001b[?25ldone\n",
            "\u001b[?25h  Stored in directory: /tmp/pip-ephem-wheel-cache-tlfq11xa/wheels/b3/15/88/ca4fd68df0b1bdbe9f45166dc62ab45bcc9cf569c393f9838a\n",
            "  Building wheel for torch-scatter (setup.py) ... \u001b[?25lerror\n",
            "\u001b[31m  Failed building wheel for torch-scatter\u001b[0m\n",
            "\u001b[?25h  Running setup.py clean for torch-scatter\n",
            "\u001b[31m  Failed cleaning build dir for torch-scatter\u001b[0m\n",
            "  Building wheel for torch-sparse (setup.py) ... \u001b[?25lerror\n",
            "\u001b[31m  Failed building wheel for torch-sparse\u001b[0m\n",
            "\u001b[?25h  Running setup.py clean for torch-sparse\n",
            "\u001b[31m  Failed cleaning build dir for torch-sparse\u001b[0m\n",
            "Successfully built pytorch-ard torch-scatter torch-sparse\n",
            "Failed to build torch-scatter torch-sparse\n",
            "\u001b[31mpytorch-ard 0.2.0 requires pytorch-scatter@ git+https://github.com/rusty1s/pytorch_scatter.git@master, which is not installed.\u001b[0m\n",
            "\u001b[31mpytorch-ard 0.2.0 requires pytorch-sparse@ git+https://github.com/rusty1s/pytorch_sparse.git@master, which is not installed.\u001b[0m\n",
            "Installing collected packages: torch-scatter, torch-sparse, pytorch-ard\n",
            "Successfully installed pytorch-ard-0.2.0 torch-scatter-1.1.2 torch-sparse-0.3.0\n"
          ],
          "name": "stdout"
        }
      ]
    },
    {
      "metadata": {
        "id": "MErnae-WZMeU",
        "colab_type": "code",
        "colab": {
          "base_uri": "https://localhost:8080/",
          "height": 34
        },
        "outputId": "2844550a-b893-41d7-fc00-485445fce515"
      },
      "cell_type": "code",
      "source": [
        "import torch\n",
        "import torch.utils.data\n",
        "import torch_ard as nn_ard\n",
        "from torch import nn\n",
        "import torch.nn.functional as F\n",
        "from torchvision import datasets\n",
        "from torchvision import transforms\n",
        "print(torch.__version__)"
      ],
      "execution_count": 2,
      "outputs": [
        {
          "output_type": "stream",
          "text": [
            "1.0.1.post2\n"
          ],
          "name": "stdout"
        }
      ]
    },
    {
      "metadata": {
        "id": "ssXoU-HeWeBH",
        "colab_type": "code",
        "colab": {}
      },
      "cell_type": "code",
      "source": [
        "import os\n",
        "import time\n",
        "import numpy as np\n",
        "import matplotlib.pyplot as plt\n",
        "from sklearn.model_selection import train_test_split"
      ],
      "execution_count": 0,
      "outputs": []
    },
    {
      "metadata": {
        "id": "GEq43V6ObJ9E",
        "colab_type": "code",
        "colab": {}
      },
      "cell_type": "code",
      "source": [
        "from tqdm import tqdm_notebook as tqdm"
      ],
      "execution_count": 0,
      "outputs": []
    },
    {
      "metadata": {
        "id": "BYFE8DgAsA_M",
        "colab_type": "code",
        "colab": {}
      },
      "cell_type": "code",
      "source": [
        "device = torch.device(\"cuda\" if torch.cuda.is_available() else \"cpu\")\n",
        "model_path = 'models/baseline.pt'\n",
        "batch_size = 512"
      ],
      "execution_count": 0,
      "outputs": []
    },
    {
      "metadata": {
        "id": "uPnG9r_H6YXP",
        "colab_type": "code",
        "colab": {
          "base_uri": "https://localhost:8080/",
          "height": 34
        },
        "outputId": "15e6efdf-4bf6-472f-92f3-ecb73898e3d6"
      },
      "cell_type": "code",
      "source": [
        "print(device)"
      ],
      "execution_count": 6,
      "outputs": [
        {
          "output_type": "stream",
          "text": [
            "cuda\n"
          ],
          "name": "stdout"
        }
      ]
    },
    {
      "metadata": {
        "id": "BrmCyloeuZoo",
        "colab_type": "code",
        "colab": {
          "base_uri": "https://localhost:8080/",
          "height": 275
        },
        "outputId": "15f471f5-2e7f-4b75-e5ca-40c11beffa13"
      },
      "cell_type": "code",
      "source": [
        "trainset = datasets.MNIST(\n",
        "    './data', train=True, download=True,\n",
        "    transform=transforms.Compose([\n",
        "        transforms.ToTensor(),\n",
        "    ]),\n",
        ")\n",
        "\n",
        "testset = datasets.MNIST(\n",
        "    './data', train=False, download=True,\n",
        "    transform=transforms.Compose([\n",
        "        transforms.ToTensor(),\n",
        "    ]),\n",
        ")\n",
        "\n",
        "trainloader = torch.utils.data.DataLoader(\n",
        "    trainset, batch_size=batch_size, shuffle=True\n",
        ")\n",
        "testloader = torch.utils.data.DataLoader(\n",
        "    testset, batch_size=1024, shuffle=True\n",
        ")"
      ],
      "execution_count": 7,
      "outputs": [
        {
          "output_type": "stream",
          "text": [
            "\r0it [00:00, ?it/s]"
          ],
          "name": "stderr"
        },
        {
          "output_type": "stream",
          "text": [
            "Downloading http://yann.lecun.com/exdb/mnist/train-images-idx3-ubyte.gz to ./data/MNIST/raw/train-images-idx3-ubyte.gz\n"
          ],
          "name": "stdout"
        },
        {
          "output_type": "stream",
          "text": [
            "9920512it [00:01, 8661663.32it/s]                            \n"
          ],
          "name": "stderr"
        },
        {
          "output_type": "stream",
          "text": [
            "Extracting ./data/MNIST/raw/train-images-idx3-ubyte.gz\n"
          ],
          "name": "stdout"
        },
        {
          "output_type": "stream",
          "text": [
            "  0%|          | 0/28881 [00:00<?, ?it/s]"
          ],
          "name": "stderr"
        },
        {
          "output_type": "stream",
          "text": [
            "Downloading http://yann.lecun.com/exdb/mnist/train-labels-idx1-ubyte.gz to ./data/MNIST/raw/train-labels-idx1-ubyte.gz\n"
          ],
          "name": "stdout"
        },
        {
          "output_type": "stream",
          "text": [
            "32768it [00:00, 130927.53it/s]           \n",
            "  0%|          | 0/1648877 [00:00<?, ?it/s]"
          ],
          "name": "stderr"
        },
        {
          "output_type": "stream",
          "text": [
            "Extracting ./data/MNIST/raw/train-labels-idx1-ubyte.gz\n",
            "Downloading http://yann.lecun.com/exdb/mnist/t10k-images-idx3-ubyte.gz to ./data/MNIST/raw/t10k-images-idx3-ubyte.gz\n"
          ],
          "name": "stdout"
        },
        {
          "output_type": "stream",
          "text": [
            "1654784it [00:00, 2145980.40it/s]                            \n",
            "0it [00:00, ?it/s]"
          ],
          "name": "stderr"
        },
        {
          "output_type": "stream",
          "text": [
            "Extracting ./data/MNIST/raw/t10k-images-idx3-ubyte.gz\n",
            "Downloading http://yann.lecun.com/exdb/mnist/t10k-labels-idx1-ubyte.gz to ./data/MNIST/raw/t10k-labels-idx1-ubyte.gz\n"
          ],
          "name": "stdout"
        },
        {
          "output_type": "stream",
          "text": [
            "8192it [00:00, 49077.00it/s]            \n"
          ],
          "name": "stderr"
        },
        {
          "output_type": "stream",
          "text": [
            "Extracting ./data/MNIST/raw/t10k-labels-idx1-ubyte.gz\n",
            "Processing...\n",
            "Done!\n"
          ],
          "name": "stdout"
        }
      ]
    },
    {
      "metadata": {
        "id": "6ZWCVbAluZlT",
        "colab_type": "code",
        "colab": {
          "base_uri": "https://localhost:8080/",
          "height": 157
        },
        "outputId": "851b6eca-602e-49b3-d7c2-d0c7e4163057"
      },
      "cell_type": "code",
      "source": [
        "transforms.ToPILImage()(\n",
        "    torch.transpose(\n",
        "        trainset.data[:25].view(5, 5, 28, 28),\n",
        "        1, 2\n",
        "    ).reshape(140, 140)\n",
        ")"
      ],
      "execution_count": 8,
      "outputs": [
        {
          "output_type": "execute_result",
          "data": {
            "image/png": "[encoded data removed]",
            "text/plain": [
              "<PIL.Image.Image image mode=L size=140x140 at 0x7FE87AB8EE48>"
            ]
          },
          "metadata": {
            "tags": []
          },
          "execution_count": 8
        }
      ]
    },
    {
      "metadata": {
        "id": "TW5SJd8buZh4",
        "colab_type": "code",
        "colab": {}
      },
      "cell_type": "code",
      "source": [
        "class Reshape(nn.Module):\n",
        "  def __init__(self, *shape):\n",
        "    super(Reshape, self).__init__()\n",
        "    self.shape = shape\n",
        "\n",
        "  def forward(self, x):\n",
        "    return x.reshape(x.shape[0], *self.shape)\n",
        "\n",
        "\n",
        "model = nn.Sequential(\n",
        "    nn.Conv2d(in_channels=1, out_channels=16, kernel_size=5), # 1x28x28 -> 16x24x24\n",
        "    nn.MaxPool2d(kernel_size=2), # -> 16x12x12\n",
        "    nn.ReLU(),\n",
        "    nn.Dropout(p=0.1),\n",
        "    \n",
        "    nn.Conv2d(in_channels=16, out_channels=32, kernel_size=5), # -> 32x8x8\n",
        "    nn.MaxPool2d(kernel_size=2), # -> 32x4x4\n",
        "    nn.ReLU(),\n",
        "    nn.Dropout(p=0.1),\n",
        "    \n",
        "    Reshape(512),\n",
        "    nn.Linear(in_features=512, out_features=128),\n",
        "    nn.ReLU(),\n",
        "    nn.Dropout(p=0.1),\n",
        "    nn.Linear(in_features=128, out_features=10)\n",
        ").to(device)\n",
        "\n",
        "for layer in model.children():\n",
        "  if hasattr(layer, 'weight'):\n",
        "    nn.init.xavier_uniform_(layer.weight, gain=nn.init.calculate_gain('relu'))\n",
        "\n",
        "\n",
        "loss_function = nn.CrossEntropyLoss()\n",
        "\n",
        "learning_rate = 0.0005\n",
        "optimizer = torch.optim.Adam(model.parameters(), lr=learning_rate)"
      ],
      "execution_count": 0,
      "outputs": []
    },
    {
      "metadata": {
        "id": "K8xwflFpuZQ1",
        "colab_type": "code",
        "colab": {}
      },
      "cell_type": "code",
      "source": [
        "from IPython.display import clear_output\n",
        "\n",
        "class Logger:\n",
        "  def __init__(self):\n",
        "    self.train_loss_batch = []\n",
        "    self.train_loss_epoch = []\n",
        "    self.train_metrics_batch = {}\n",
        "    self.test_loss_batch = []\n",
        "    self.test_loss_epoch = []\n",
        "    self.test_metrics_batch = {}\n",
        "    self.train_batches_per_epoch = 0\n",
        "    self.test_batches_per_epoch = 0\n",
        "    self.epoch_counter = 0\n",
        "\n",
        "  def fill_train(self, loss, **other_metrics):\n",
        "    self.train_loss_batch.append(loss)\n",
        "    self.train_batches_per_epoch += 1\n",
        "    for k, v in other_metrics.items():\n",
        "      self.train_metrics_batch.setdefault(k, []).append(v)\n",
        "\n",
        "  def fill_test(self, loss, **other_metrics):\n",
        "    self.test_loss_batch.append(loss)\n",
        "    self.test_batches_per_epoch += 1\n",
        "    for k, v in other_metrics.items():\n",
        "      self.test_metrics_batch.setdefault(k, []).append(v)\n",
        "\n",
        "  def finish_epoch(self):\n",
        "    self.train_loss_epoch.append(np.mean(\n",
        "        self.train_loss_batch[-self.train_batches_per_epoch:]\n",
        "    ))\n",
        "    self.test_loss_epoch.append(np.mean(\n",
        "        self.test_loss_batch[-self.test_batches_per_epoch:]\n",
        "    ))\n",
        "    self.train_batches_per_epoch = 0\n",
        "    self.test_batches_per_epoch = 0\n",
        "    \n",
        "    clear_output()\n",
        "  \n",
        "    print(\"epoch #{} \\t train_loss: {:.8} \\t test_loss: {:.8}\".format(\n",
        "              self.epoch_counter,\n",
        "              self.train_loss_epoch[-1],\n",
        "              self.test_loss_epoch [-1]\n",
        "          ))\n",
        "    for k, v in self.train_metrics_batch.items():\n",
        "      print(\"           \\t train_{}: {:.4} \\t test_{} {:.4}\".format(\n",
        "                k, np.mean(v),\n",
        "                k, np.mean(self.test_metrics_batch[k])\n",
        "            ))\n",
        "    self.train_metrics_batch = {}\n",
        "    self.test_metrics_batch = {}\n",
        "    \n",
        "    self.epoch_counter += 1\n",
        "\n",
        "    plt.figure(figsize=(11, 5))\n",
        "\n",
        "    plt.subplot(1, 2, 1)\n",
        "    plt.plot(self.train_loss_batch, label='train loss')\n",
        "    plt.xlabel('# batch iteration')\n",
        "    plt.ylabel('loss')\n",
        "    plt.legend()\n",
        "\n",
        "    plt.subplot(1, 2, 2)\n",
        "    plt.plot(self.train_loss_epoch, label='average train loss')\n",
        "    plt.plot(self.test_loss_epoch , label='average test loss' )\n",
        "    plt.legend()\n",
        "    plt.xlabel('# epoch')\n",
        "    plt.ylabel('loss')\n",
        "    plt.show();"
      ],
      "execution_count": 0,
      "outputs": []
    },
    {
      "metadata": {
        "id": "Jgo-47wa4Au3",
        "colab_type": "code",
        "colab": {
          "base_uri": "https://localhost:8080/",
          "height": 371
        },
        "outputId": "933de210-6e11-4552-8c92-24f7874c775a"
      },
      "cell_type": "code",
      "source": [
        "n_epochs = 30\n",
        "\n",
        "logger = Logger()\n",
        "\n",
        "for _ in range(n_epochs):\n",
        "  model.train()\n",
        "  for inputs, targets in trainloader:\n",
        "    inputs, targets = inputs.to(device), targets.to(device)\n",
        "    model.zero_grad()\n",
        "\n",
        "    logits = model(inputs)\n",
        "    loss = loss_function(logits, targets)\n",
        "    \n",
        "    accuracy = torch.mean((torch.argmax(logits, dim=1) == targets).float())\n",
        "\n",
        "    loss.backward()\n",
        "    optimizer.step()\n",
        "    \n",
        "    logger.fill_train(loss.item(), accuracy=accuracy.item())\n",
        "  \n",
        "  model.eval()\n",
        "  with torch.no_grad():\n",
        "    for inputs, targets in testloader:\n",
        "      inputs, targets = inputs.to(device), targets.to(device)\n",
        "      logits = model(inputs)\n",
        "      loss = loss_function(logits, targets)\n",
        "      \n",
        "      accuracy = torch.mean((torch.argmax(logits, dim=1) == targets).float())\n",
        "      \n",
        "      logger.fill_test(loss.item(), accuracy=accuracy.item())\n",
        "\n",
        "  logger.finish_epoch()\n",
        "      "
      ],
      "execution_count": 11,
      "outputs": [
        {
          "output_type": "stream",
          "text": [
            "epoch #29 \t train_loss: 0.01909059 \t test_loss: 0.021409541\n",
            "           \t train_accuracy: 0.9938 \t test_accuracy 0.993\n"
          ],
          "name": "stdout"
        },
        {
          "output_type": "display_data",
          "data": {
            "image/png": "[encoded data removed]",
            "text/plain": [
              "<Figure size 792x360 with 2 Axes>"
            ]
          },
          "metadata": {
            "tags": []
          }
        }
      ]
    },
    {
      "metadata": {
        "id": "q9ep83DG4Aro",
        "colab_type": "code",
        "colab": {
          "base_uri": "https://localhost:8080/",
          "height": 71
        },
        "outputId": "6e487a9c-3c72-4a33-f7f8-618e5e66f55b"
      },
      "cell_type": "code",
      "source": [
        "os.makedirs(os.path.dirname(model_path), exist_ok=True)\n",
        "torch.save(model, model_path)"
      ],
      "execution_count": 12,
      "outputs": [
        {
          "output_type": "stream",
          "text": [
            "/usr/local/lib/python3.6/dist-packages/torch/serialization.py:251: UserWarning: Couldn't retrieve source code for container of type Reshape. It won't be checked for correctness upon loading.\n",
            "  \"type \" + obj.__name__ + \". It won't be checked \"\n"
          ],
          "name": "stderr"
        }
      ]
    },
    {
      "metadata": {
        "id": "azQcaUaBsB5s",
        "colab_type": "text"
      },
      "cell_type": "markdown",
      "source": [
        "----------------"
      ]
    },
    {
      "metadata": {
        "id": "MzvJY4iO4ApK",
        "colab_type": "code",
        "colab": {}
      },
      "cell_type": "code",
      "source": [
        "model = nn.Sequential(\n",
        "    nn_ard.Conv2dARD(in_channels=1, out_channels=16, kernel_size=5), # 1x28x28 -> 16x24x24\n",
        "    nn.MaxPool2d(kernel_size=2), # -> 16x12x12\n",
        "    nn.ReLU(),\n",
        "    \n",
        "    nn_ard.Conv2dARD(in_channels=16, out_channels=32, kernel_size=5), # -> 32x8x8\n",
        "    nn.MaxPool2d(kernel_size=2), # -> 32x4x4\n",
        "    nn.ReLU(),\n",
        "    \n",
        "    Reshape(512),\n",
        "    nn_ard.LinearARD(in_features=512, out_features=128),\n",
        "    nn.ReLU(),\n",
        "    nn_ard.LinearARD(in_features=128, out_features=10)\n",
        ").to(device)\n",
        "\n",
        "for layer in model.children():\n",
        "  if hasattr(layer, 'weight'):\n",
        "    nn.init.xavier_uniform_(layer.weight, gain=nn.init.calculate_gain('relu'))\n",
        "\n",
        "loss_function = nn.CrossEntropyLoss()\n",
        "\n",
        "learning_rate = 0.001\n",
        "optimizer = torch.optim.Adam(model.parameters(), lr=learning_rate)"
      ],
      "execution_count": 0,
      "outputs": []
    },
    {
      "metadata": {
        "id": "odJnWfAA4Ale",
        "colab_type": "code",
        "colab": {
          "base_uri": "https://localhost:8080/",
          "height": 388
        },
        "outputId": "d7064ea7-d3be-4b43-d0be-747cecce1d82"
      },
      "cell_type": "code",
      "source": [
        "n_epochs = 30\n",
        "reg_param = 0.01\n",
        "\n",
        "logger = Logger()\n",
        "\n",
        "for i_epoch in range(n_epochs):\n",
        "  model.train()\n",
        "  for inputs, targets in trainloader:\n",
        "    inputs, targets = inputs.to(device), targets.to(device)\n",
        "    model.zero_grad()\n",
        "\n",
        "    logits = model(inputs)\n",
        "    loss = loss_function(logits, targets)\n",
        "    \n",
        "    accuracy = torch.mean((torch.argmax(logits, dim=1) == targets).float())\n",
        "#    if i_epoch > 2:\n",
        "    total_loss = loss + reg_param * nn_ard.get_ard_reg(model) * targets.shape[0] / len(trainset)\n",
        "#    else:\n",
        "#      total_loss = loss\n",
        "    total_loss.backward()\n",
        "    optimizer.step()\n",
        "    \n",
        "    logger.fill_train(loss.item(), accuracy=accuracy.item())\n",
        "  \n",
        "  model.eval()\n",
        "  with torch.no_grad():\n",
        "    for inputs, targets in testloader:\n",
        "      inputs, targets = inputs.to(device), targets.to(device)\n",
        "      logits = model(inputs)\n",
        "      loss = loss_function(logits, targets)\n",
        "      \n",
        "      accuracy = torch.mean((torch.argmax(logits, dim=1) == targets).float())\n",
        "      \n",
        "      logger.fill_test(loss.item(), accuracy=accuracy.item())\n",
        "\n",
        "  logger.finish_epoch()\n",
        "  print('Sparsification ratio: {:.3f}%'.format(100. * nn_ard.get_dropped_params_ratio(model)))"
      ],
      "execution_count": 14,
      "outputs": [
        {
          "output_type": "stream",
          "text": [
            "epoch #29 \t train_loss: 0.099932053 \t test_loss: 0.066077366\n",
            "           \t train_accuracy: 0.9694 \t test_accuracy 0.98\n"
          ],
          "name": "stdout"
        },
        {
          "output_type": "display_data",
          "data": {
            "image/png": "[encoded data removed]",
            "text/plain": [
              "<Figure size 792x360 with 2 Axes>"
            ]
          },
          "metadata": {
            "tags": []
          }
        },
        {
          "output_type": "stream",
          "text": [
            "Sparsification ratio: 94.619%\n"
          ],
          "name": "stdout"
        }
      ]
    },
    {
      "metadata": {
        "id": "4g2zGYLU4Aif",
        "colab_type": "code",
        "colab": {
          "base_uri": "https://localhost:8080/",
          "height": 71
        },
        "outputId": "da019412-9e8c-4fce-9ad3-9d5e0b16c548"
      },
      "cell_type": "code",
      "source": [
        "model_sparse_path = 'models/sparse.pt'\n",
        "torch.save(model, model_sparse_path)"
      ],
      "execution_count": 15,
      "outputs": [
        {
          "output_type": "stream",
          "text": [
            "/usr/local/lib/python3.6/dist-packages/torch/serialization.py:251: UserWarning: Couldn't retrieve source code for container of type Reshape. It won't be checked for correctness upon loading.\n",
            "  \"type \" + obj.__name__ + \". It won't be checked \"\n"
          ],
          "name": "stderr"
        }
      ]
    },
    {
      "metadata": {
        "id": "OPXdp_DrOxIQ",
        "colab_type": "code",
        "colab": {}
      },
      "cell_type": "code",
      "source": [
        "model_baseline_cpu = torch.load(model_path).cpu().eval()\n",
        "model_baseline_gpu = torch.load(model_path).cuda().eval()\n",
        "\n",
        "model_sparse_cpu = torch.load(model_sparse_path).cpu().eval()\n",
        "model_sparse_gpu = torch.load(model_sparse_path).cuda().eval()"
      ],
      "execution_count": 0,
      "outputs": []
    },
    {
      "metadata": {
        "id": "dbDqzrspOxE8",
        "colab_type": "code",
        "colab": {
          "base_uri": "https://localhost:8080/",
          "height": 85
        },
        "outputId": "e509e08f-7296-4d84-d02c-168a7b17195e"
      },
      "cell_type": "code",
      "source": [
        "batch_X_cpu = next(iter(testloader))[0]\n",
        "batch_X_gpu = next(iter(testloader))[0].cuda()\n",
        "\n",
        "with torch.no_grad():\n",
        "  start_t = time.time()\n",
        "  for _ in range(50):\n",
        "    logits = model_baseline_cpu(batch_X_cpu)\n",
        "  time_baseline_cpu = time.time() - start_t\n",
        "  \n",
        "  start_t = time.time()\n",
        "  for _ in range(50):\n",
        "    logits = model_sparse_cpu(batch_X_cpu)\n",
        "  time_sparse_cpu = time.time() - start_t\n",
        "  \n",
        "  start_t = time.time()\n",
        "  for _ in range(50):\n",
        "    logits = model_baseline_gpu(batch_X_gpu)\n",
        "  time_baseline_gpu = time.time() - start_t\n",
        "  \n",
        "  start_t = time.time()\n",
        "  for _ in range(50):\n",
        "    logits = model_sparse_gpu(batch_X_gpu)\n",
        "  time_sparse_gpu = time.time() - start_t\n",
        "\n",
        "print(\"Baseline (CPU):\", time_baseline_cpu, 'secs')\n",
        "print(\"Sparse (CPU):  \", time_sparse_cpu  , 'secs')\n",
        "print(\"Baseline (GPU):\", time_baseline_gpu, 'secs')\n",
        "print(\"Sparse (GPU):  \", time_sparse_gpu  , 'secs')"
      ],
      "execution_count": 17,
      "outputs": [
        {
          "output_type": "stream",
          "text": [
            "Baseline (CPU): 6.135144948959351 secs\n",
            "Sparse (CPU):   5.779918909072876 secs\n",
            "Baseline (GPU): 0.017070531845092773 secs\n",
            "Sparse (GPU):   0.0607757568359375 secs\n"
          ],
          "name": "stdout"
        }
      ]
    },
    {
      "metadata": {
        "id": "fNlMf437DZG0",
        "colab_type": "code",
        "colab": {}
      },
      "cell_type": "code",
      "source": [
        ""
      ],
      "execution_count": 0,
      "outputs": []
    }
  ]
}