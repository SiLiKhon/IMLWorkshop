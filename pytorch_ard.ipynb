{
  "nbformat": 4,
  "nbformat_minor": 0,
  "metadata": {
    "colab": {
      "name": "pytorch_ard.ipynb",
      "version": "0.3.2",
      "provenance": [],
      "collapsed_sections": [],
      "include_colab_link": true
    },
    "kernelspec": {
      "name": "python3",
      "display_name": "Python 3"
    },
    "accelerator": "GPU"
  },
  "cells": [
    {
      "cell_type": "markdown",
      "metadata": {
        "id": "view-in-github",
        "colab_type": "text"
      },
      "source": [
        "<a href=\"https://colab.research.google.com/github/SiLiKhon/IMLWorkshop/blob/master/pytorch_ard.ipynb\" target=\"_parent\"><img src=\"https://colab.research.google.com/assets/colab-badge.svg\" alt=\"Open In Colab\"/></a>"
      ]
    },
    {
      "metadata": {
        "id": "Kugt3dKITAa2",
        "colab_type": "code",
        "colab": {}
      },
      "cell_type": "code",
      "source": [
        "#pip install pytorch-ard\n",
        "#pip install git+https://github.com/rusty1s/pytorch_sparse\n",
        "pip install git+https://github.com/HolyBayes/pytorch_ard"
      ],
      "execution_count": 0,
      "outputs": []
    },
    {
      "metadata": {
        "id": "MErnae-WZMeU",
        "colab_type": "code",
        "colab": {}
      },
      "cell_type": "code",
      "source": [
        "import torch\n",
        "import torch.utils.data\n",
        "import torch_ard as nn_ard\n",
        "from torch import nn\n",
        "import torch.nn.functional as F\n",
        "from torchvision import datasets\n",
        "from torchvision import transforms\n"
      ],
      "execution_count": 0,
      "outputs": []
    },
    {
      "metadata": {
        "id": "ssXoU-HeWeBH",
        "colab_type": "code",
        "colab": {}
      },
      "cell_type": "code",
      "source": [
        "import os\n",
        "import time\n",
        "import numpy as np\n",
        "import matplotlib.pyplot as plt\n",
        "from sklearn.model_selection import train_test_split"
      ],
      "execution_count": 0,
      "outputs": []
    },
    {
      "metadata": {
        "id": "GEq43V6ObJ9E",
        "colab_type": "code",
        "colab": {}
      },
      "cell_type": "code",
      "source": [
        "from tqdm import tqdm_notebook as tqdm"
      ],
      "execution_count": 0,
      "outputs": []
    },
    {
      "metadata": {
        "id": "BYFE8DgAsA_M",
        "colab_type": "code",
        "colab": {}
      },
      "cell_type": "code",
      "source": [
        "device = torch.device(\"cuda\" if torch.cuda.is_available() else \"cpu\")\n",
        "model_path = 'models/baseline.pt'\n",
        "batch_size = 512"
      ],
      "execution_count": 0,
      "outputs": []
    },
    {
      "metadata": {
        "id": "uPnG9r_H6YXP",
        "colab_type": "code",
        "colab": {
          "base_uri": "https://localhost:8080/",
          "height": 34
        },
        "outputId": "0fc3286f-adc8-461a-abdb-1baa2caea5a9"
      },
      "cell_type": "code",
      "source": [
        "print(device)"
      ],
      "execution_count": 12,
      "outputs": [
        {
          "output_type": "stream",
          "text": [
            "cuda\n"
          ],
          "name": "stdout"
        }
      ]
    },
    {
      "metadata": {
        "id": "BrmCyloeuZoo",
        "colab_type": "code",
        "colab": {}
      },
      "cell_type": "code",
      "source": [
        "trainset = datasets.MNIST(\n",
        "    './data', train=True, download=True,\n",
        "    transform=transforms.Compose([\n",
        "        transforms.ToTensor(),\n",
        "    ]),\n",
        ")\n",
        "\n",
        "testset = datasets.MNIST(\n",
        "    './data', train=False, download=True,\n",
        "    transform=transforms.Compose([\n",
        "        transforms.ToTensor(),\n",
        "    ]),\n",
        ")\n",
        "\n",
        "trainloader = torch.utils.data.DataLoader(\n",
        "    trainset, batch_size=batch_size, shuffle=True\n",
        ")\n",
        "testloader = torch.utils.data.DataLoader(\n",
        "    testset, batch_size=1024, shuffle=True\n",
        ")"
      ],
      "execution_count": 0,
      "outputs": []
    },
    {
      "metadata": {
        "id": "6ZWCVbAluZlT",
        "colab_type": "code",
        "colab": {
          "base_uri": "https://localhost:8080/",
          "height": 157
        },
        "outputId": "3ade7824-52a3-4719-b9f2-4d74be796067"
      },
      "cell_type": "code",
      "source": [
        "transforms.ToPILImage()(\n",
        "    torch.transpose(\n",
        "        trainset.data[:25].view(5, 5, 28, 28),\n",
        "        1, 2\n",
        "    ).reshape(140, 140)\n",
        ")"
      ],
      "execution_count": 14,
      "outputs": [
        {
          "output_type": "execute_result",
          "data": {
            "image/png": "[encoded data removed]",
            "text/plain": [
              "<PIL.Image.Image image mode=L size=140x140 at 0x7F4A18F3CD30>"
            ]
          },
          "metadata": {
            "tags": []
          },
          "execution_count": 14
        }
      ]
    },
    {
      "metadata": {
        "id": "TW5SJd8buZh4",
        "colab_type": "code",
        "colab": {}
      },
      "cell_type": "code",
      "source": [
        "class Reshape(nn.Module):\n",
        "  def __init__(self, *shape):\n",
        "    super(Reshape, self).__init__()\n",
        "    self.shape = shape\n",
        "\n",
        "  def forward(self, x):\n",
        "    return x.reshape(x.shape[0], *self.shape)\n",
        "\n",
        "\n",
        "model = nn.Sequential(\n",
        "    nn.Conv2d(in_channels=1, out_channels=16, kernel_size=5), # 1x28x28 -> 16x24x24\n",
        "    nn.MaxPool2d(kernel_size=2), # -> 16x12x12\n",
        "    nn.ReLU(),\n",
        "    nn.Dropout(p=0.1),\n",
        "    \n",
        "    nn.Conv2d(in_channels=16, out_channels=32, kernel_size=5), # -> 32x8x8\n",
        "    nn.MaxPool2d(kernel_size=2), # -> 32x4x4\n",
        "    nn.ReLU(),\n",
        "    nn.Dropout(p=0.1),\n",
        "    \n",
        "    Reshape(512),\n",
        "    nn.Linear(in_features=512, out_features=128),\n",
        "    nn.ReLU(),\n",
        "    nn.Dropout(p=0.1),\n",
        "    nn.Linear(in_features=128, out_features=10)\n",
        ").to(device)\n",
        "\n",
        "loss_function = nn.CrossEntropyLoss()\n",
        "\n",
        "learning_rate = 0.0005\n",
        "optimizer = torch.optim.Adam(model.parameters(), lr=learning_rate)"
      ],
      "execution_count": 0,
      "outputs": []
    },
    {
      "metadata": {
        "id": "K8xwflFpuZQ1",
        "colab_type": "code",
        "colab": {}
      },
      "cell_type": "code",
      "source": [
        "from IPython.display import clear_output\n",
        "\n",
        "class Logger:\n",
        "  def __init__(self):\n",
        "    self.train_loss_batch = []\n",
        "    self.train_loss_epoch = []\n",
        "    self.train_metrics_batch = {}\n",
        "    self.test_loss_batch = []\n",
        "    self.test_loss_epoch = []\n",
        "    self.test_metrics_batch = {}\n",
        "    self.train_batches_per_epoch = 0\n",
        "    self.test_batches_per_epoch = 0\n",
        "    self.epoch_counter = 0\n",
        "\n",
        "  def fill_train(self, loss, **other_metrics):\n",
        "    self.train_loss_batch.append(loss)\n",
        "    self.train_batches_per_epoch += 1\n",
        "    for k, v in other_metrics.items():\n",
        "      self.train_metrics_batch.setdefault(k, []).append(v)\n",
        "\n",
        "  def fill_test(self, loss, **other_metrics):\n",
        "    self.test_loss_batch.append(loss)\n",
        "    self.test_batches_per_epoch += 1\n",
        "    for k, v in other_metrics.items():\n",
        "      self.test_metrics_batch.setdefault(k, []).append(v)\n",
        "\n",
        "  def finish_epoch(self):\n",
        "    self.train_loss_epoch.append(np.mean(\n",
        "        self.train_loss_batch[-self.train_batches_per_epoch:]\n",
        "    ))\n",
        "    self.test_loss_epoch.append(np.mean(\n",
        "        self.test_loss_batch[-self.test_batches_per_epoch:]\n",
        "    ))\n",
        "    self.train_batches_per_epoch = 0\n",
        "    self.test_batches_per_epoch = 0\n",
        "    \n",
        "    clear_output()\n",
        "  \n",
        "    print(\"epoch #{} \\t train_loss: {:.8} \\t test_loss: {:.8}\".format(\n",
        "              self.epoch_counter,\n",
        "              self.train_loss_epoch[-1],\n",
        "              self.test_loss_epoch [-1]\n",
        "          ))\n",
        "    for k, v in self.train_metrics_batch.items():\n",
        "      print(\"           \\t train_{}: {:.4} \\t test_{} {:.4}\".format(\n",
        "                k, np.mean(v),\n",
        "                k, np.mean(self.test_metrics_batch[k])\n",
        "            ))\n",
        "    self.train_metrics_batch = {}\n",
        "    self.test_metrics_batch = {}\n",
        "    \n",
        "    self.epoch_counter += 1\n",
        "\n",
        "    plt.figure(figsize=(11, 5))\n",
        "\n",
        "    plt.subplot(1, 2, 1)\n",
        "    plt.plot(self.train_loss_batch, label='train loss')\n",
        "    plt.xlabel('# batch iteration')\n",
        "    plt.ylabel('loss')\n",
        "    plt.legend()\n",
        "\n",
        "    plt.subplot(1, 2, 2)\n",
        "    plt.plot(self.train_loss_epoch, label='average train loss')\n",
        "    plt.plot(self.test_loss_epoch , label='average test loss' )\n",
        "    plt.legend()\n",
        "    plt.xlabel('# epoch')\n",
        "    plt.ylabel('loss')\n",
        "    plt.show();"
      ],
      "execution_count": 0,
      "outputs": []
    },
    {
      "metadata": {
        "id": "Jgo-47wa4Au3",
        "colab_type": "code",
        "colab": {
          "base_uri": "https://localhost:8080/",
          "height": 371
        },
        "outputId": "45f8e462-0346-4c5a-f730-1a3ac6b9a1d4"
      },
      "cell_type": "code",
      "source": [
        "n_epochs = 30\n",
        "\n",
        "logger = Logger()\n",
        "\n",
        "for _ in range(n_epochs):\n",
        "  model.train()\n",
        "  for inputs, targets in trainloader:\n",
        "    inputs, targets = inputs.to(device), targets.to(device)\n",
        "    model.zero_grad()\n",
        "\n",
        "    logits = model(inputs)\n",
        "    loss = loss_function(logits, targets)\n",
        "    \n",
        "    accuracy = torch.mean((torch.argmax(logits, dim=1) == targets).float())\n",
        "\n",
        "    loss.backward()\n",
        "    optimizer.step()\n",
        "    \n",
        "    logger.fill_train(loss.item(), accuracy=accuracy.item())\n",
        "  \n",
        "  model.eval()\n",
        "  with torch.no_grad():\n",
        "    for inputs, targets in testloader:\n",
        "      inputs, targets = inputs.to(device), targets.to(device)\n",
        "      logits = model(inputs)\n",
        "      loss = loss_function(logits, targets)\n",
        "      \n",
        "      accuracy = torch.mean((torch.argmax(logits, dim=1) == targets).float())\n",
        "      \n",
        "      logger.fill_test(loss.item(), accuracy=accuracy.item())\n",
        "\n",
        "  logger.finish_epoch()\n",
        "      "
      ],
      "execution_count": 22,
      "outputs": [
        {
          "output_type": "stream",
          "text": [
            "epoch #29 \t train_loss: 0.018138359 \t test_loss: 0.020556217\n",
            "           \t train_accuracy: 0.9946 \t test_accuracy 0.9935\n"
          ],
          "name": "stdout"
        },
        {
          "output_type": "display_data",
          "data": {
            "image/png": "[encoded data removed]",
            "text/plain": [
              "<Figure size 792x360 with 2 Axes>"
            ]
          },
          "metadata": {
            "tags": []
          }
        }
      ]
    },
    {
      "metadata": {
        "id": "q9ep83DG4Aro",
        "colab_type": "code",
        "colab": {
          "base_uri": "https://localhost:8080/",
          "height": 71
        },
        "outputId": "52403a8b-f934-4145-d5e7-20200b55e5d2"
      },
      "cell_type": "code",
      "source": [
        "os.makedirs(os.path.dirname(model_path), exist_ok=True)\n",
        "torch.save(model, model_path)"
      ],
      "execution_count": 29,
      "outputs": [
        {
          "output_type": "stream",
          "text": [
            "/usr/local/lib/python3.6/dist-packages/torch/serialization.py:251: UserWarning: Couldn't retrieve source code for container of type Reshape. It won't be checked for correctness upon loading.\n",
            "  \"type \" + obj.__name__ + \". It won't be checked \"\n"
          ],
          "name": "stderr"
        }
      ]
    },
    {
      "metadata": {
        "id": "azQcaUaBsB5s",
        "colab_type": "text"
      },
      "cell_type": "markdown",
      "source": [
        "----------------"
      ]
    },
    {
      "metadata": {
        "id": "MzvJY4iO4ApK",
        "colab_type": "code",
        "colab": {}
      },
      "cell_type": "code",
      "source": [
        "model = nn.Sequential(\n",
        "    nn_ard.Conv2dARD(in_channels=1, out_channels=16, kernel_size=5), # 1x28x28 -> 16x24x24\n",
        "    nn.MaxPool2d(kernel_size=2), # -> 16x12x12\n",
        "    nn.ReLU(),\n",
        "    \n",
        "    nn_ard.Conv2dARD(in_channels=16, out_channels=32, kernel_size=5), # -> 32x8x8\n",
        "    nn.MaxPool2d(kernel_size=2), # -> 32x4x4\n",
        "    nn.ReLU(),\n",
        "    \n",
        "    Reshape(512),\n",
        "    nn_ard.LinearARD(in_features=512, out_features=128),\n",
        "    nn.ReLU(),\n",
        "    nn_ard.LinearARD(in_features=128, out_features=10)\n",
        ").to(device)\n",
        "\n",
        "loss_function = nn.CrossEntropyLoss()\n",
        "\n",
        "learning_rate = 0.001\n",
        "optimizer = torch.optim.Adam(model.parameters(), lr=learning_rate)"
      ],
      "execution_count": 0,
      "outputs": []
    },
    {
      "metadata": {
        "id": "odJnWfAA4Ale",
        "colab_type": "code",
        "colab": {
          "base_uri": "https://localhost:8080/",
          "height": 388
        },
        "outputId": "27ae85e6-4bec-4211-cc78-cd98fe58acf3"
      },
      "cell_type": "code",
      "source": [
        "n_epochs = 30\n",
        "reg_param = 0.0005\n",
        "\n",
        "logger = Logger()\n",
        "\n",
        "for _ in range(n_epochs):\n",
        "  model.train()\n",
        "  for inputs, targets in trainloader:\n",
        "    inputs, targets = inputs.to(device), targets.to(device)\n",
        "    model.zero_grad()\n",
        "\n",
        "    logits = model(inputs)\n",
        "    loss = loss_function(logits, targets)\n",
        "    \n",
        "    accuracy = torch.mean((torch.argmax(logits, dim=1) == targets).float())\n",
        "    total_loss = loss + reg_param * nn_ard.get_ard_reg(model) * targets.shape[0] / len(trainset)\n",
        "    total_loss.backward()\n",
        "    optimizer.step()\n",
        "    \n",
        "    logger.fill_train(loss.item(), accuracy=accuracy.item())\n",
        "  \n",
        "  model.eval()\n",
        "  with torch.no_grad():\n",
        "    for inputs, targets in testloader:\n",
        "      inputs, targets = inputs.to(device), targets.to(device)\n",
        "      logits = model(inputs)\n",
        "      loss = loss_function(logits, targets)\n",
        "      \n",
        "      accuracy = torch.mean((torch.argmax(logits, dim=1) == targets).float())\n",
        "      \n",
        "      logger.fill_test(loss.item(), accuracy=accuracy.item())\n",
        "\n",
        "  logger.finish_epoch()\n",
        "  print('Sparsification ratio: {:.3f}%'.format(100. * nn_ard.get_dropped_params_ratio(model)))"
      ],
      "execution_count": 44,
      "outputs": [
        {
          "output_type": "stream",
          "text": [
            "epoch #29 \t train_loss: 0.038837425 \t test_loss: 0.036478006\n",
            "           \t train_accuracy: 0.9874 \t test_accuracy 0.9876\n"
          ],
          "name": "stdout"
        },
        {
          "output_type": "display_data",
          "data": {
            "image/png": "[encoded data removed]",
            "text/plain": [
              "<Figure size 792x360 with 2 Axes>"
            ]
          },
          "metadata": {
            "tags": []
          }
        },
        {
          "output_type": "stream",
          "text": [
            "Sparsification ratio: 76.932%\n"
          ],
          "name": "stdout"
        }
      ]
    },
    {
      "metadata": {
        "id": "4g2zGYLU4Aif",
        "colab_type": "code",
        "colab": {
          "base_uri": "https://localhost:8080/",
          "height": 71
        },
        "outputId": "a3b367de-0d95-4376-cdee-b9814266f9c4"
      },
      "cell_type": "code",
      "source": [
        "model_sparse_path = 'models/sparse.pt'\n",
        "torch.save(model, model_sparse_path)"
      ],
      "execution_count": 45,
      "outputs": [
        {
          "output_type": "stream",
          "text": [
            "/usr/local/lib/python3.6/dist-packages/torch/serialization.py:251: UserWarning: Couldn't retrieve source code for container of type Reshape. It won't be checked for correctness upon loading.\n",
            "  \"type \" + obj.__name__ + \". It won't be checked \"\n"
          ],
          "name": "stderr"
        }
      ]
    },
    {
      "metadata": {
        "id": "OPXdp_DrOxIQ",
        "colab_type": "code",
        "colab": {}
      },
      "cell_type": "code",
      "source": [
        "model_baseline_cpu = torch.load(model_path).cpu().eval()\n",
        "model_baseline_gpu = torch.load(model_path).cuda().eval()\n",
        "\n",
        "model_sparse_cpu = torch.load(model_sparse_path).cpu().eval()\n",
        "model_sparse_gpu = torch.load(model_sparse_path).cuda().eval()"
      ],
      "execution_count": 0,
      "outputs": []
    },
    {
      "metadata": {
        "id": "dbDqzrspOxE8",
        "colab_type": "code",
        "colab": {
          "base_uri": "https://localhost:8080/",
          "height": 85
        },
        "outputId": "df02cf54-f1cd-4b42-d262-5654832d9b8e"
      },
      "cell_type": "code",
      "source": [
        "with torch.no_grad():\n",
        "  start_t = time.time()\n",
        "  for X, _ in testloader:\n",
        "    logits = model_baseline_cpu(X)\n",
        "  time_baseline_cpu = time.time() - start_t\n",
        "  \n",
        "  start_t = time.time()\n",
        "  for X, _ in testloader:\n",
        "    logits = model_sparse_cpu(X)\n",
        "  time_sparse_cpu = time.time() - start_t\n",
        "  \n",
        "  start_t = time.time()\n",
        "  for X, _ in testloader:\n",
        "    logits = model_baseline_gpu(X.cuda())\n",
        "  time_baseline_gpu = time.time() - start_t\n",
        "  \n",
        "  start_t = time.time()\n",
        "  for X, _ in testloader:\n",
        "    logits = model_sparse_gpu(X.cuda())\n",
        "  time_sparse_gpu = time.time() - start_t\n",
        "\n",
        "print(\"Baseline (CPU):\", time_baseline_cpu, 'secs')\n",
        "print(\"Sparse (CPU):  \", time_sparse_cpu  , 'secs')\n",
        "print(\"Baseline (GPU):\", time_baseline_gpu, 'secs')\n",
        "print(\"Sparse (GPU):  \", time_sparse_gpu  , 'secs')"
      ],
      "execution_count": 70,
      "outputs": [
        {
          "output_type": "stream",
          "text": [
            "Baseline (CPU): 2.0688838958740234 secs\n",
            "Sparse (CPU):   5.113843202590942 secs\n",
            "Baseline (GPU): 0.8132877349853516 secs\n",
            "Sparse (GPU):   0.7507016658782959 secs\n"
          ],
          "name": "stdout"
        }
      ]
    },
    {
      "metadata": {
        "id": "LUkoJfLVOxCm",
        "colab_type": "code",
        "colab": {}
      },
      "cell_type": "code",
      "source": [
        ""
      ],
      "execution_count": 0,
      "outputs": []
    }
  ]
}