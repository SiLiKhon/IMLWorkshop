{
  "nbformat": 4,
  "nbformat_minor": 0,
  "metadata": {
    "colab": {
      "name": "pytorch_ard.ipynb",
      "version": "0.3.2",
      "provenance": [],
      "collapsed_sections": [],
      "include_colab_link": true
    },
    "kernelspec": {
      "name": "python3",
      "display_name": "Python 3"
    },
    "accelerator": "GPU"
  },
  "cells": [
    {
      "cell_type": "markdown",
      "metadata": {
        "id": "view-in-github",
        "colab_type": "text"
      },
      "source": [
        "<a href=\"https://colab.research.google.com/github/SiLiKhon/IMLWorkshop/blob/master/pytorch_ard.ipynb\" target=\"_parent\"><img src=\"https://colab.research.google.com/assets/colab-badge.svg\" alt=\"Open In Colab\"/></a>"
      ]
    },
    {
      "metadata": {
        "id": "ZdkMuvoMpx8L",
        "colab_type": "text"
      },
      "cell_type": "markdown",
      "source": [
        "# Variational dropout sparsification on PyTorch"
      ]
    },
    {
      "metadata": {
        "id": "u2YUoYg1qMPH",
        "colab_type": "text"
      },
      "cell_type": "markdown",
      "source": [
        "The technique is described in this paper: [arxiv:1701.05369](https://arxiv.org/abs/1701.05369)\n",
        "\n",
        "This approach was implemented for fully connected and convolutional layers in PyTorch: https://github.com/HolyBayes/pytorch_ard"
      ]
    },
    {
      "metadata": {
        "id": "yfGtcfL4wNTM",
        "colab_type": "text"
      },
      "cell_type": "markdown",
      "source": [
        "The discovered approach helps to train both convolutional and dense deep sparsified models without significant loss of quality. Additive Noise Reparameterization\n",
        "and the Local Reparameterization Trick discovered in the paper helps to eliminate weights prior's restrictions (<a href=\"https://www.codecogs.com/eqnedit.php?latex=\\alpha\\leq&space;1\" target=\"_blank\"><img src=\"https://latex.codecogs.com/gif.latex?\\alpha\\leq&space;1\" title=\"\\alpha\\leq 1\" /></a>) and achieve Automatic Relevance Determination (ARD) effect on (typically most) network's parameters. According to the original paper, authors reduced the number of parameters up to 280 times on LeNet architectures and up to 68 times on VGG-like networks with a negligible decrease of accuracy. \n",
        "\n",
        "This technique helps to significantly reduce overfitting and helps to not worry about model's complexity - all redundant parameters will be dropped automatically. Moreover, you can achieve any degree of regularization variating regularization factor tradeoff."
      ]
    },
    {
      "metadata": {
        "id": "TC1l69GYs5D8",
        "colab_type": "text"
      },
      "cell_type": "markdown",
      "source": [
        "## Prerequisites"
      ]
    },
    {
      "metadata": {
        "id": "OnzcyQxjqrzx",
        "colab_type": "text"
      },
      "cell_type": "markdown",
      "source": [
        "Let's start by installing this linbrary:"
      ]
    },
    {
      "metadata": {
        "id": "Kugt3dKITAa2",
        "colab_type": "code",
        "colab": {}
      },
      "cell_type": "code",
      "source": [
        "pip install git+https://github.com/HolyBayes/pytorch_ard"
      ],
      "execution_count": 0,
      "outputs": []
    },
    {
      "metadata": {
        "id": "zXmnBfLdtBcZ",
        "colab_type": "text"
      },
      "cell_type": "markdown",
      "source": [
        "## Setup"
      ]
    },
    {
      "metadata": {
        "id": "zfLbo0LwrS3a",
        "colab_type": "text"
      },
      "cell_type": "markdown",
      "source": [
        "Some imports:"
      ]
    },
    {
      "metadata": {
        "id": "MErnae-WZMeU",
        "colab_type": "code",
        "colab": {}
      },
      "cell_type": "code",
      "source": [
        "import os\n",
        "\n",
        "import numpy as np\n",
        "import matplotlib.pyplot as plt\n",
        "\n",
        "import torch\n",
        "import torch.utils.data\n",
        "import torch_ard as nn_ard\n",
        "from torch import nn\n",
        "from torchvision import datasets\n",
        "from torchvision import transforms"
      ],
      "execution_count": 0,
      "outputs": []
    },
    {
      "metadata": {
        "id": "d7zUauVur6YJ",
        "colab_type": "text"
      },
      "cell_type": "markdown",
      "source": [
        "Let's define some useful variables:"
      ]
    },
    {
      "metadata": {
        "id": "BYFE8DgAsA_M",
        "colab_type": "code",
        "colab": {
          "base_uri": "https://localhost:8080/",
          "height": 34
        },
        "outputId": "90abf28c-a73d-4416-d83a-cd5d7151b409"
      },
      "cell_type": "code",
      "source": [
        "device = torch.device(\"cuda\" if torch.cuda.is_available() else \"cpu\")\n",
        "model_path_baseline = 'models/baseline.pt'\n",
        "model_path_sparse = 'models/sparse.pt'\n",
        "batch_size = 128\n",
        "\n",
        "print(device)"
      ],
      "execution_count": 3,
      "outputs": [
        {
          "output_type": "stream",
          "text": [
            "cuda\n"
          ],
          "name": "stdout"
        }
      ]
    },
    {
      "metadata": {
        "id": "4ZFYopXGsuFY",
        "colab_type": "text"
      },
      "cell_type": "markdown",
      "source": [
        "This example is based on the MNIST dataset. Let's download it and use `torch.utils.data.DataLoader` to automatically iterate over minibatches:"
      ]
    },
    {
      "metadata": {
        "id": "BrmCyloeuZoo",
        "colab_type": "code",
        "colab": {}
      },
      "cell_type": "code",
      "source": [
        "trainset = datasets.MNIST(\n",
        "    './data', train=True, download=True,\n",
        "    transform=transforms.Compose([\n",
        "        transforms.ToTensor(),\n",
        "    ]),\n",
        ")\n",
        "\n",
        "testset = datasets.MNIST(\n",
        "    './data', train=False, download=True,\n",
        "    transform=transforms.Compose([\n",
        "        transforms.ToTensor(),\n",
        "    ]),\n",
        ")\n",
        "\n",
        "trainloader = torch.utils.data.DataLoader(\n",
        "    trainset, batch_size=batch_size, shuffle=True\n",
        ")\n",
        "testloader = torch.utils.data.DataLoader(\n",
        "    testset, batch_size=1024, shuffle=True\n",
        ")"
      ],
      "execution_count": 0,
      "outputs": []
    },
    {
      "metadata": {
        "id": "pV-7HGdqtXQa",
        "colab_type": "text"
      },
      "cell_type": "markdown",
      "source": [
        "It's always a good idea to visualize the data you're working with :)"
      ]
    },
    {
      "metadata": {
        "id": "6ZWCVbAluZlT",
        "colab_type": "code",
        "colab": {
          "base_uri": "https://localhost:8080/",
          "height": 157
        },
        "outputId": "e0123aed-e146-4c5c-817d-c7c3b5e8abd5"
      },
      "cell_type": "code",
      "source": [
        "transforms.ToPILImage()(\n",
        "    torch.transpose(\n",
        "        trainset.data[:25].view(5, 5, 28, 28),\n",
        "        1, 2\n",
        "    ).reshape(140, 140)\n",
        ")"
      ],
      "execution_count": 5,
      "outputs": [
        {
          "output_type": "execute_result",
          "data": {
            "image/png": "[encoded data removed]",
            "text/plain": [
              "<PIL.Image.Image image mode=L size=140x140 at 0x7F3C40E606D8>"
            ]
          },
          "metadata": {
            "tags": []
          },
          "execution_count": 5
        }
      ]
    },
    {
      "metadata": {
        "id": "ABv6qe-Oti6Q",
        "colab_type": "text"
      },
      "cell_type": "markdown",
      "source": [
        "Here's a little utility class that will help us keep track of the losses and other metrics:"
      ]
    },
    {
      "metadata": {
        "id": "K8xwflFpuZQ1",
        "colab_type": "code",
        "colab": {}
      },
      "cell_type": "code",
      "source": [
        "from IPython.display import clear_output\n",
        "\n",
        "class Logger:\n",
        "  def __init__(self):\n",
        "    self.train_loss_batch = []\n",
        "    self.train_loss_epoch = []\n",
        "    self.train_metrics_batch = {}\n",
        "    self.test_loss_batch = []\n",
        "    self.test_loss_epoch = []\n",
        "    self.test_metrics_batch = {}\n",
        "    self.train_batches_per_epoch = 0\n",
        "    self.test_batches_per_epoch = 0\n",
        "    self.epoch_counter = 0\n",
        "\n",
        "  def fill_train(self, loss, **other_metrics):\n",
        "    self.train_loss_batch.append(loss)\n",
        "    self.train_batches_per_epoch += 1\n",
        "    for k, v in other_metrics.items():\n",
        "      self.train_metrics_batch.setdefault(k, []).append(v)\n",
        "\n",
        "  def fill_test(self, loss, **other_metrics):\n",
        "    self.test_loss_batch.append(loss)\n",
        "    self.test_batches_per_epoch += 1\n",
        "    for k, v in other_metrics.items():\n",
        "      self.test_metrics_batch.setdefault(k, []).append(v)\n",
        "\n",
        "  def finish_epoch(self):\n",
        "    self.train_loss_epoch.append(np.mean(\n",
        "        self.train_loss_batch[-self.train_batches_per_epoch:]\n",
        "    ))\n",
        "    self.test_loss_epoch.append(np.mean(\n",
        "        self.test_loss_batch[-self.test_batches_per_epoch:]\n",
        "    ))\n",
        "    self.train_batches_per_epoch = 0\n",
        "    self.test_batches_per_epoch = 0\n",
        "    \n",
        "    clear_output()\n",
        "  \n",
        "    print(\"epoch #{} \\t train_loss: {:.8} \\t test_loss: {:.8}\".format(\n",
        "              self.epoch_counter,\n",
        "              self.train_loss_epoch[-1],\n",
        "              self.test_loss_epoch [-1]\n",
        "          ))\n",
        "    for k, v in self.train_metrics_batch.items():\n",
        "      print(\"           \\t train_{}: {:.4} \\t test_{} {:.4}\".format(\n",
        "                k, np.mean(v),\n",
        "                k, np.mean(self.test_metrics_batch[k])\n",
        "            ))\n",
        "    self.train_metrics_batch = {}\n",
        "    self.test_metrics_batch = {}\n",
        "    \n",
        "    self.epoch_counter += 1\n",
        "\n",
        "    plt.figure(figsize=(11, 5))\n",
        "\n",
        "    plt.subplot(1, 2, 1)\n",
        "    plt.plot(self.train_loss_batch, label='train loss')\n",
        "    plt.xlabel('# batch iteration')\n",
        "    plt.ylabel('loss')\n",
        "    plt.legend()\n",
        "\n",
        "    plt.subplot(1, 2, 2)\n",
        "    plt.plot(self.train_loss_epoch, label='average train loss')\n",
        "    plt.plot(self.test_loss_epoch , label='average test loss' )\n",
        "    plt.legend()\n",
        "    plt.xlabel('# epoch')\n",
        "    plt.ylabel('loss')\n",
        "    plt.show();"
      ],
      "execution_count": 0,
      "outputs": []
    },
    {
      "metadata": {
        "id": "vUkmfyQDtsRJ",
        "colab_type": "text"
      },
      "cell_type": "markdown",
      "source": [
        "We'll also need a reshaping layer to apply a fully-connected layer after the convolutions:"
      ]
    },
    {
      "metadata": {
        "id": "Vf_k7yr0oXWZ",
        "colab_type": "code",
        "colab": {}
      },
      "cell_type": "code",
      "source": [
        "class Reshape(nn.Module):\n",
        "  def __init__(self, *shape):\n",
        "    super(Reshape, self).__init__()\n",
        "    self.shape = shape\n",
        "\n",
        "  def forward(self, x):\n",
        "    return x.reshape(x.shape[0], *self.shape)"
      ],
      "execution_count": 0,
      "outputs": []
    },
    {
      "metadata": {
        "id": "qGYpK57Et5Ur",
        "colab_type": "text"
      },
      "cell_type": "markdown",
      "source": [
        "## Baseline model"
      ]
    },
    {
      "metadata": {
        "id": "g2Z8FPN3vCdO",
        "colab_type": "text"
      },
      "cell_type": "markdown",
      "source": [
        "### Model definition"
      ]
    },
    {
      "metadata": {
        "id": "t7twOoDduEby",
        "colab_type": "text"
      },
      "cell_type": "markdown",
      "source": [
        "Our baseline model (without sparsification) will consist of 2 convolutional+maxpool layers and one hidden fully-connected layer.\n",
        "\n",
        "> *Note that to avoid overfitting here we need to use regular (Bernoulli distributed) dropout.*"
      ]
    },
    {
      "metadata": {
        "id": "TW5SJd8buZh4",
        "colab_type": "code",
        "colab": {}
      },
      "cell_type": "code",
      "source": [
        "model = nn.Sequential(\n",
        "    nn.Conv2d(in_channels=1, out_channels=16, kernel_size=5), # 1x28x28 -> 16x24x24\n",
        "    nn.MaxPool2d(kernel_size=2), # -> 16x12x12\n",
        "    nn.ReLU(),\n",
        "    nn.Dropout(p=0.1),\n",
        "    \n",
        "    nn.Conv2d(in_channels=16, out_channels=32, kernel_size=5), # -> 32x8x8\n",
        "    nn.MaxPool2d(kernel_size=2), # -> 32x4x4\n",
        "    nn.ReLU(),\n",
        "    nn.Dropout(p=0.1),\n",
        "    \n",
        "    Reshape(512),\n",
        "    nn.Linear(in_features=512, out_features=256),\n",
        "    nn.ReLU(),\n",
        "    nn.Dropout(p=0.1),\n",
        "    nn.Linear(in_features=256, out_features=10)\n",
        ").to(device)\n",
        "\n",
        "for layer in model.children():\n",
        "  if hasattr(layer, 'weight'):\n",
        "    nn.init.xavier_uniform_(layer.weight, gain=nn.init.calculate_gain('relu'))\n",
        "\n",
        "\n",
        "loss_function = nn.CrossEntropyLoss()\n",
        "\n",
        "learning_rate = 0.0005\n",
        "optimizer = torch.optim.Adam(model.parameters(), lr=learning_rate)"
      ],
      "execution_count": 0,
      "outputs": []
    },
    {
      "metadata": {
        "id": "bIkig6THvFF5",
        "colab_type": "text"
      },
      "cell_type": "markdown",
      "source": [
        "### Training"
      ]
    },
    {
      "metadata": {
        "id": "Jgo-47wa4Au3",
        "colab_type": "code",
        "colab": {
          "base_uri": "https://localhost:8080/",
          "height": 372
        },
        "outputId": "db369efa-6163-45d0-e1da-593ab8dad061"
      },
      "cell_type": "code",
      "source": [
        "n_epochs = 20\n",
        "\n",
        "logger = Logger()\n",
        "\n",
        "for _ in range(n_epochs):\n",
        "  model.train()\n",
        "  for inputs, targets in trainloader:\n",
        "    inputs, targets = inputs.to(device), targets.to(device)\n",
        "    model.zero_grad()\n",
        "\n",
        "    logits = model(inputs)\n",
        "    loss = loss_function(logits, targets)\n",
        "    \n",
        "    accuracy = torch.mean((torch.argmax(logits, dim=1) == targets).float())\n",
        "\n",
        "    loss.backward()\n",
        "    optimizer.step()\n",
        "    \n",
        "    logger.fill_train(loss.item(), accuracy=accuracy.item())\n",
        "  \n",
        "  model.eval()\n",
        "  with torch.no_grad():\n",
        "    for inputs, targets in testloader:\n",
        "      inputs, targets = inputs.to(device), targets.to(device)\n",
        "      logits = model(inputs)\n",
        "      loss = loss_function(logits, targets)\n",
        "      \n",
        "      accuracy = torch.mean((torch.argmax(logits, dim=1) == targets).float())\n",
        "      \n",
        "      logger.fill_test(loss.item(), accuracy=accuracy.item())\n",
        "\n",
        "  logger.finish_epoch()\n",
        "      "
      ],
      "execution_count": 10,
      "outputs": [
        {
          "output_type": "stream",
          "text": [
            "epoch #19 \t train_loss: 0.0097514375 \t test_loss: 0.021000598\n",
            "           \t train_accuracy: 0.9967 \t test_accuracy 0.993\n"
          ],
          "name": "stdout"
        },
        {
          "output_type": "display_data",
          "data": {
            "image/png": "[encoded data removed]",
            "text/plain": [
              "<Figure size 792x360 with 2 Axes>"
            ]
          },
          "metadata": {
            "tags": []
          }
        }
      ]
    },
    {
      "metadata": {
        "id": "md4pabWNvO8G",
        "colab_type": "text"
      },
      "cell_type": "markdown",
      "source": [
        "Let's save our model:"
      ]
    },
    {
      "metadata": {
        "id": "q9ep83DG4Aro",
        "colab_type": "code",
        "colab": {}
      },
      "cell_type": "code",
      "source": [
        "os.makedirs(os.path.dirname(model_path_baseline), exist_ok=True)\n",
        "torch.save(model, model_path_baseline)"
      ],
      "execution_count": 0,
      "outputs": []
    },
    {
      "metadata": {
        "id": "azQcaUaBsB5s",
        "colab_type": "text"
      },
      "cell_type": "markdown",
      "source": [
        "----------------"
      ]
    },
    {
      "metadata": {
        "id": "u9fz5S48vQ1z",
        "colab_type": "text"
      },
      "cell_type": "markdown",
      "source": [
        "## Sparse model"
      ]
    },
    {
      "metadata": {
        "id": "4OaN8oi5vfoH",
        "colab_type": "text"
      },
      "cell_type": "markdown",
      "source": [
        "### Model definition"
      ]
    },
    {
      "metadata": {
        "id": "smaWci64veYI",
        "colab_type": "text"
      },
      "cell_type": "markdown",
      "source": [
        "Here we'll use the same architecture. The `torch_ard` library is implemented in such a way, that ARD layers have same interface as relevant layers from `torch.nn`, i.e. you can just do the following replacements:\n",
        "\n",
        "  * `nn.Linear(*parameters)` $\\rightarrow$ `nn_ard.LinearARD(*parameters)`\n",
        "  * `nn.Conv2d(*parameters)` $\\rightarrow$  `nn_ard.Conv2dARD(*parameters)`\n",
        "  \n",
        "Each weight of these layers is normally distributed and therefore is defined in terms of two parameters: $\\mu$ and $\\sigma^2$. During the training, sampling from these normal distributions happens at each forward pass. At evaluation, the network is sparsified by eliminating the weights with large $\\sigma^2$ and all other weights are deterministically set to their $\\mu$ values.\n",
        "\n",
        "> *Note that we don't need dropout layers anymore - the regularisation is performed automatically!*"
      ]
    },
    {
      "metadata": {
        "id": "MzvJY4iO4ApK",
        "colab_type": "code",
        "colab": {}
      },
      "cell_type": "code",
      "source": [
        "model = nn.Sequential(\n",
        "    nn_ard.Conv2dARD(in_channels=1, out_channels=16, kernel_size=5), # 1x28x28 -> 16x24x24\n",
        "    nn.MaxPool2d(kernel_size=2), # -> 16x12x12\n",
        "    nn.ReLU(),\n",
        "    \n",
        "    nn_ard.Conv2dARD(in_channels=16, out_channels=32, kernel_size=5), # -> 32x8x8\n",
        "    nn.MaxPool2d(kernel_size=2), # -> 32x4x4\n",
        "    nn.ReLU(),\n",
        "    \n",
        "    Reshape(512),\n",
        "    nn_ard.LinearARD(in_features=512, out_features=256),\n",
        "    nn.ReLU(),\n",
        "    nn_ard.LinearARD(in_features=256, out_features=10)\n",
        ").to(device)\n",
        "\n",
        "for layer in model.children():\n",
        "  if hasattr(layer, 'weight'):\n",
        "    nn.init.xavier_uniform_(layer.weight, gain=nn.init.calculate_gain('relu'))\n",
        "\n",
        "loss_function = nn.CrossEntropyLoss()\n",
        "\n",
        "learning_rate = 0.001\n",
        "optimizer = torch.optim.Adam(model.parameters(), lr=learning_rate)"
      ],
      "execution_count": 0,
      "outputs": []
    },
    {
      "metadata": {
        "id": "QGYTmySI006c",
        "colab_type": "text"
      },
      "cell_type": "markdown",
      "source": [
        "### Training"
      ]
    },
    {
      "metadata": {
        "id": "odJnWfAA4Ale",
        "colab_type": "code",
        "colab": {
          "base_uri": "https://localhost:8080/",
          "height": 388
        },
        "outputId": "49a9eabb-6474-4f0a-f7ae-31807c13f86d"
      },
      "cell_type": "code",
      "source": [
        "n_epochs = 30\n",
        "reg_param = 0.005 # This parameter controls automatic regularisation:\n",
        "                  # the higher its value - the more sparse your network\n",
        "                  # will get, possibly with the price of decrease in\n",
        "                  # performance\n",
        "\n",
        "logger = Logger()\n",
        "\n",
        "for i_epoch in range(n_epochs):\n",
        "  model.train()\n",
        "  for inputs, targets in trainloader:\n",
        "    inputs, targets = inputs.to(device), targets.to(device)\n",
        "    model.zero_grad()\n",
        "\n",
        "    logits = model(inputs)\n",
        "    loss = loss_function(logits, targets)\n",
        "    \n",
        "    accuracy = torch.mean((torch.argmax(logits, dim=1) == targets).float())\n",
        "\n",
        "    # Here's how the regularizer is added to the loss:\n",
        "    total_loss = loss + reg_param * nn_ard.get_ard_reg(model) * targets.shape[0] / len(trainset)\n",
        "\n",
        "    total_loss.backward()\n",
        "    optimizer.step()\n",
        "    \n",
        "    logger.fill_train(loss.item(), accuracy=accuracy.item())\n",
        "  \n",
        "  model.eval()\n",
        "  with torch.no_grad():\n",
        "    for inputs, targets in testloader:\n",
        "      inputs, targets = inputs.to(device), targets.to(device)\n",
        "      logits = model(inputs)\n",
        "      loss = loss_function(logits, targets)\n",
        "      \n",
        "      accuracy = torch.mean((torch.argmax(logits, dim=1) == targets).float())\n",
        "      \n",
        "      logger.fill_test(loss.item(), accuracy=accuracy.item())\n",
        "\n",
        "  logger.finish_epoch()\n",
        "  \n",
        "  # You can check the sparsity of your model using nn_ard.get_dropped_params_ratio(...).\n",
        "  # This function returns the fraction of removed weights.\n",
        "  print('Sparsification ratio: {:.3f}%'.format(100. * nn_ard.get_dropped_params_ratio(model)))"
      ],
      "execution_count": 13,
      "outputs": [
        {
          "output_type": "stream",
          "text": [
            "epoch #29 \t train_loss: 0.036466258 \t test_loss: 0.030893128\n",
            "           \t train_accuracy: 0.9887 \t test_accuracy 0.9905\n"
          ],
          "name": "stdout"
        },
        {
          "output_type": "display_data",
          "data": {
            "image/png": "[encoded data removed]",
            "text/plain": [
              "<Figure size 792x360 with 2 Axes>"
            ]
          },
          "metadata": {
            "tags": []
          }
        },
        {
          "output_type": "stream",
          "text": [
            "Sparsification ratio: 88.473%\n"
          ],
          "name": "stdout"
        }
      ]
    },
    {
      "metadata": {
        "id": "rZGJwmha2DFQ",
        "colab_type": "text"
      },
      "cell_type": "markdown",
      "source": [
        "Saving the model:"
      ]
    },
    {
      "metadata": {
        "id": "4g2zGYLU4Aif",
        "colab_type": "code",
        "colab": {}
      },
      "cell_type": "code",
      "source": [
        "torch.save(model, model_path_sparse)"
      ],
      "execution_count": 0,
      "outputs": []
    }
  ]
}